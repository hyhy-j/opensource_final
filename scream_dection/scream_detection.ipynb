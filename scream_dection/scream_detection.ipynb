{
 "cells": [
  {
   "cell_type": "markdown",
   "metadata": {
    "id": "_t2pRrHTJ9nE"
   },
   "source": [
    "## 소리 데이터에 대한 이해"
   ]
  },
  {
   "cell_type": "code",
   "execution_count": null,
   "metadata": {
    "executionInfo": {
     "elapsed": 3843,
     "status": "ok",
     "timestamp": 1614595766593,
     "user": {
      "displayName": "Hooncheol Shin",
      "photoUrl": "https://lh3.googleusercontent.com/a-/AOh14GgOP8xftDNxLBTGt9RYgJKhihLZm89rKAIFTVIf=s64",
      "userId": "09924783447560152895"
     },
     "user_tz": -540
    },
    "id": "TGzJ8hDiJ9nK"
   },
   "outputs": [],
   "source": [
    "import librosa"
   ]
  },
  {
   "cell_type": "code",
   "execution_count": null,
   "metadata": {
    "colab": {
     "base_uri": "https://localhost:8080/",
     "height": 283
    },
    "executionInfo": {
     "elapsed": 1004,
     "status": "error",
     "timestamp": 1614507834838,
     "user": {
      "displayName": "Hooncheol Shin",
      "photoUrl": "https://lh3.googleusercontent.com/a-/AOh14GgOP8xftDNxLBTGt9RYgJKhihLZm89rKAIFTVIf=s64",
      "userId": "09924783447560152895"
     },
     "user_tz": -540
    },
    "id": "nRdhSEgnJ9nK",
    "outputId": "ec92b463-ea3c-48a8-aff5-f711a7d27e5d"
   },
   "outputs": [],
   "source": [
    "import sounddevice as sd"
   ]
  },
  {
   "cell_type": "code",
   "execution_count": null,
   "metadata": {
    "colab": {
     "base_uri": "https://localhost:8080/"
    },
    "executionInfo": {
     "elapsed": 1788,
     "status": "ok",
     "timestamp": 1614507838757,
     "user": {
      "displayName": "Hooncheol Shin",
      "photoUrl": "https://lh3.googleusercontent.com/a-/AOh14GgOP8xftDNxLBTGt9RYgJKhihLZm89rKAIFTVIf=s64",
      "userId": "09924783447560152895"
     },
     "user_tz": -540
    },
    "id": "R7jSWhwQJ9nL",
    "outputId": "210037dc-a306-444f-d266-07a91a27e6f7"
   },
   "outputs": [],
   "source": [
    "example_file_path = librosa.ex('trumpet')\n",
    "print(f'예제 파일은 다음 위치에 있습니다\\n파일 경로: {example_file_path}')"
   ]
  },
  {
   "cell_type": "code",
   "execution_count": null,
   "metadata": {
    "executionInfo": {
     "elapsed": 995,
     "status": "ok",
     "timestamp": 1614507844722,
     "user": {
      "displayName": "Hooncheol Shin",
      "photoUrl": "https://lh3.googleusercontent.com/a-/AOh14GgOP8xftDNxLBTGt9RYgJKhihLZm89rKAIFTVIf=s64",
      "userId": "09924783447560152895"
     },
     "user_tz": -540
    },
    "id": "iAQIGEg8J9nM"
   },
   "outputs": [],
   "source": [
    "y, sr = librosa.load(example_file_path)"
   ]
  },
  {
   "cell_type": "code",
   "execution_count": null,
   "metadata": {
    "id": "7kxQ3MpBJ9nM"
   },
   "outputs": [],
   "source": [
    "sd.play(y)"
   ]
  },
  {
   "cell_type": "code",
   "execution_count": null,
   "metadata": {
    "id": "AomIRXcVJ9nM",
    "outputId": "a66544ee-2e3a-4989-c383-f0ef4e452d15"
   },
   "outputs": [],
   "source": [
    "print(f'y : {y}\\nsampling_rate : {sr}')"
   ]
  },
  {
   "cell_type": "code",
   "execution_count": null,
   "metadata": {
    "id": "zd-nlDknJ9nN",
    "outputId": "167d0e68-8317-482a-9fc2-02d51ff15caf"
   },
   "outputs": [],
   "source": [
    "print(f'y는 {len(y)} 길이의 벡터')"
   ]
  },
  {
   "cell_type": "code",
   "execution_count": null,
   "metadata": {
    "id": "IKOVBu2WJ9nN",
    "outputId": "a623b674-6f35-4f40-835a-66a73d590a57"
   },
   "outputs": [],
   "source": [
    "print(f'y의 앞 20개 값은?\\n{y[:20]}')"
   ]
  },
  {
   "cell_type": "code",
   "execution_count": null,
   "metadata": {
    "id": "VEKlQj8rJ9nN",
    "outputId": "6a3dba12-d451-4819-a444-e472a89c575a"
   },
   "outputs": [],
   "source": [
    "print(f'y는 {len(y) / sr} 초의 신호 벡터!')"
   ]
  },
  {
   "cell_type": "code",
   "execution_count": null,
   "metadata": {
    "id": "CEkkKaX-J9nO"
   },
   "outputs": [],
   "source": [
    "from matplotlib import pyplot as plt"
   ]
  },
  {
   "cell_type": "code",
   "execution_count": null,
   "metadata": {
    "id": "BfkzlZjEJ9nO",
    "outputId": "bdaa4656-0507-41e5-98d7-80acc0090848"
   },
   "outputs": [],
   "source": [
    "sr"
   ]
  },
  {
   "cell_type": "code",
   "execution_count": null,
   "metadata": {
    "id": "8mlnZ6uSJ9nO"
   },
   "outputs": [],
   "source": [
    "x = [i / sr for i in range(len(y))]"
   ]
  },
  {
   "cell_type": "code",
   "execution_count": null,
   "metadata": {
    "id": "Z-ZRbV0GJ9nO",
    "outputId": "71195ab3-0838-472c-c185-ed8a93faff31"
   },
   "outputs": [],
   "source": [
    "plt.figure(figsize=(10, 6))\n",
    "plt.plot(x, y)\n",
    "plt.title('Audio Example Data (trumpet sound)', fontsize=20)\n",
    "plt.xlabel('Time (sec)', fontsize=16)\n",
    "plt.ylabel('Signal Amplitude', fontsize=16)\n",
    "plt.show()"
   ]
  },
  {
   "cell_type": "code",
   "execution_count": null,
   "metadata": {
    "id": "CO6m3IbsJ9nP",
    "outputId": "4e3aebd5-1a03-45c6-8966-d13ec95b8047"
   },
   "outputs": [],
   "source": [
    "plt.figure(figsize=(10, 6))\n",
    "plt.plot(x[:sr], y[:sr])\n",
    "plt.title('Audio Example Data (trumpet sound)', fontsize=20)\n",
    "plt.xlabel('Time (sec)', fontsize=16)\n",
    "plt.ylabel('Signal Amplitude', fontsize=16)\n",
    "plt.show()"
   ]
  },
  {
   "cell_type": "code",
   "execution_count": null,
   "metadata": {
    "id": "HjIlKzpGJ9nP",
    "outputId": "ac0c817a-9293-4260-c3fb-66d39e4a4768"
   },
   "outputs": [],
   "source": [
    "plt.figure(figsize=(10, 6))\n",
    "plt.plot(x[: sr // 10], y[: sr // 10])\n",
    "plt.title('Audio Example Data (trumpet sound)', fontsize=20)\n",
    "plt.xlabel('Time (sec)', fontsize=16)\n",
    "plt.ylabel('Signal Amplitude', fontsize=16)\n",
    "plt.show()"
   ]
  },
  {
   "cell_type": "code",
   "execution_count": null,
   "metadata": {
    "id": "KxxJJQFiJ9nP",
    "outputId": "ac0b4673-8308-4d69-e2f3-cff689083530"
   },
   "outputs": [],
   "source": [
    "plt.figure(figsize=(10, 6))\n",
    "plt.plot(x[: sr // 100], y[: sr // 100])\n",
    "plt.title('Audio Example Data (trumpet sound)', fontsize=20)\n",
    "plt.xlabel('Time (sec)', fontsize=16)\n",
    "plt.ylabel('Signal Amplitude', fontsize=16)\n",
    "plt.show()"
   ]
  },
  {
   "cell_type": "code",
   "execution_count": null,
   "metadata": {
    "id": "OQrNEOzAJ9nQ"
   },
   "outputs": [],
   "source": [
    "sd.play(y)"
   ]
  },
  {
   "cell_type": "markdown",
   "metadata": {
    "id": "oF62V2iUJ9nQ"
   },
   "source": [
    "## Frame Processing"
   ]
  },
  {
   "cell_type": "code",
   "execution_count": null,
   "metadata": {
    "executionInfo": {
     "elapsed": 981,
     "status": "ok",
     "timestamp": 1614507880020,
     "user": {
      "displayName": "Hooncheol Shin",
      "photoUrl": "https://lh3.googleusercontent.com/a-/AOh14GgOP8xftDNxLBTGt9RYgJKhihLZm89rKAIFTVIf=s64",
      "userId": "09924783447560152895"
     },
     "user_tz": -540
    },
    "id": "QznnuYqBJ9nQ"
   },
   "outputs": [],
   "source": [
    "import librosa\n",
    "import pandas as pd\n",
    "import numpy as np"
   ]
  },
  {
   "cell_type": "code",
   "execution_count": null,
   "metadata": {
    "executionInfo": {
     "elapsed": 987,
     "status": "ok",
     "timestamp": 1614507885123,
     "user": {
      "displayName": "Hooncheol Shin",
      "photoUrl": "https://lh3.googleusercontent.com/a-/AOh14GgOP8xftDNxLBTGt9RYgJKhihLZm89rKAIFTVIf=s64",
      "userId": "09924783447560152895"
     },
     "user_tz": -540
    },
    "id": "bpEXECEqJ9nR"
   },
   "outputs": [],
   "source": [
    "example_audio_path = './example/꿩+klankbeeld.wav'\n",
    "example_label_path = './example/꿩+klankbeeld.txt'\n",
    "\n",
    "frame_size = 1\n",
    "stride = 0.2"
   ]
  },
  {
   "cell_type": "code",
   "execution_count": null,
   "metadata": {
    "executionInfo": {
     "elapsed": 2607,
     "status": "ok",
     "timestamp": 1614507888776,
     "user": {
      "displayName": "Hooncheol Shin",
      "photoUrl": "https://lh3.googleusercontent.com/a-/AOh14GgOP8xftDNxLBTGt9RYgJKhihLZm89rKAIFTVIf=s64",
      "userId": "09924783447560152895"
     },
     "user_tz": -540
    },
    "id": "CMtECVwMJ9nR"
   },
   "outputs": [],
   "source": [
    "example_audio, example_sr = librosa.load(\"./example/꿩+klankbeeld.wav\")"
   ]
  },
  {
   "cell_type": "code",
   "execution_count": null,
   "metadata": {
    "colab": {
     "base_uri": "https://localhost:8080/"
    },
    "executionInfo": {
     "elapsed": 990,
     "status": "ok",
     "timestamp": 1614507891739,
     "user": {
      "displayName": "Hooncheol Shin",
      "photoUrl": "https://lh3.googleusercontent.com/a-/AOh14GgOP8xftDNxLBTGt9RYgJKhihLZm89rKAIFTVIf=s64",
      "userId": "09924783447560152895"
     },
     "user_tz": -540
    },
    "id": "FjlwsMTbJ9nR",
    "outputId": "d9b94a8b-77b7-4306-b797-8b27172edc1d"
   },
   "outputs": [],
   "source": [
    "print(\n",
    "    f'audio 벡터 길이 : {len(example_audio)}\\\n",
    "    \\naudio 파일 길이 : {len(example_audio) / example_sr} 초'\n",
    "    \n",
    ")"
   ]
  },
  {
   "cell_type": "code",
   "execution_count": null,
   "metadata": {
    "executionInfo": {
     "elapsed": 1398,
     "status": "ok",
     "timestamp": 1614507901438,
     "user": {
      "displayName": "Hooncheol Shin",
      "photoUrl": "https://lh3.googleusercontent.com/a-/AOh14GgOP8xftDNxLBTGt9RYgJKhihLZm89rKAIFTVIf=s64",
      "userId": "09924783447560152895"
     },
     "user_tz": -540
    },
    "id": "4qtATp76J9nR"
   },
   "outputs": [],
   "source": [
    "example_label = pd.read_csv(\n",
    "    example_label_path, sep='\\t', names=['start(s)', 'end(s)', 'label']\n",
    ")"
   ]
  },
  {
   "cell_type": "code",
   "execution_count": null,
   "metadata": {
    "colab": {
     "base_uri": "https://localhost:8080/"
    },
    "executionInfo": {
     "elapsed": 1096,
     "status": "ok",
     "timestamp": 1614507904891,
     "user": {
      "displayName": "Hooncheol Shin",
      "photoUrl": "https://lh3.googleusercontent.com/a-/AOh14GgOP8xftDNxLBTGt9RYgJKhihLZm89rKAIFTVIf=s64",
      "userId": "09924783447560152895"
     },
     "user_tz": -540
    },
    "id": "ctD7ANw3J9nR",
    "outputId": "2777fbb5-a728-4e5f-cfe1-2814dfeb4748"
   },
   "outputs": [],
   "source": [
    "print(\n",
    "    f'label :\\\n",
    "    \\n{example_label}'\n",
    ")"
   ]
  },
  {
   "cell_type": "code",
   "execution_count": null,
   "metadata": {
    "executionInfo": {
     "elapsed": 1060,
     "status": "ok",
     "timestamp": 1614507908059,
     "user": {
      "displayName": "Hooncheol Shin",
      "photoUrl": "https://lh3.googleusercontent.com/a-/AOh14GgOP8xftDNxLBTGt9RYgJKhihLZm89rKAIFTVIf=s64",
      "userId": "09924783447560152895"
     },
     "user_tz": -540
    },
    "id": "kEBTKFS1J9nS"
   },
   "outputs": [],
   "source": [
    "idx = example_label['end(s)'] - example_label['start(s)'] > frame_size  # (1)\n",
    "\n",
    "example_label = example_label[idx]"
   ]
  },
  {
   "cell_type": "code",
   "execution_count": null,
   "metadata": {
    "executionInfo": {
     "elapsed": 982,
     "status": "ok",
     "timestamp": 1614507908476,
     "user": {
      "displayName": "Hooncheol Shin",
      "photoUrl": "https://lh3.googleusercontent.com/a-/AOh14GgOP8xftDNxLBTGt9RYgJKhihLZm89rKAIFTVIf=s64",
      "userId": "09924783447560152895"
     },
     "user_tz": -540
    },
    "id": "S0SOWSomJ9nS"
   },
   "outputs": [],
   "source": [
    "each_n_frames = (\n",
    "    np.floor(\n",
    "        (\n",
    "            (\n",
    "                (\n",
    "                    example_label['end(s)'] - example_label['start(s)']\n",
    "                ) - frame_size\n",
    "            ) / stride\n",
    "        ) + 1\n",
    "    )\n",
    ").astype(int).values"
   ]
  },
  {
   "cell_type": "code",
   "execution_count": null,
   "metadata": {
    "executionInfo": {
     "elapsed": 1615,
     "status": "ok",
     "timestamp": 1614507909849,
     "user": {
      "displayName": "Hooncheol Shin",
      "photoUrl": "https://lh3.googleusercontent.com/a-/AOh14GgOP8xftDNxLBTGt9RYgJKhihLZm89rKAIFTVIf=s64",
      "userId": "09924783447560152895"
     },
     "user_tz": -540
    },
    "id": "q5aVs6w2J9nS"
   },
   "outputs": [],
   "source": [
    "total_n_frames = sum(each_n_frames)"
   ]
  },
  {
   "cell_type": "code",
   "execution_count": null,
   "metadata": {
    "colab": {
     "base_uri": "https://localhost:8080/"
    },
    "executionInfo": {
     "elapsed": 941,
     "status": "ok",
     "timestamp": 1614507909850,
     "user": {
      "displayName": "Hooncheol Shin",
      "photoUrl": "https://lh3.googleusercontent.com/a-/AOh14GgOP8xftDNxLBTGt9RYgJKhihLZm89rKAIFTVIf=s64",
      "userId": "09924783447560152895"
     },
     "user_tz": -540
    },
    "id": "ensjXAqhJ9nS",
    "outputId": "3cee2870-b4d9-4e3e-b0f6-cba84307df1f"
   },
   "outputs": [],
   "source": [
    "print(f'각각의 구간마다 프레임 개수 : {each_n_frames}')\n",
    "print(f'총 구간의 프레임 개수 : {total_n_frames}')"
   ]
  },
  {
   "cell_type": "code",
   "execution_count": null,
   "metadata": {
    "executionInfo": {
     "elapsed": 706,
     "status": "ok",
     "timestamp": 1614507910310,
     "user": {
      "displayName": "Hooncheol Shin",
      "photoUrl": "https://lh3.googleusercontent.com/a-/AOh14GgOP8xftDNxLBTGt9RYgJKhihLZm89rKAIFTVIf=s64",
      "userId": "09924783447560152895"
     },
     "user_tz": -540
    },
    "id": "PlOHQJw-J9nS"
   },
   "outputs": [],
   "source": [
    "frame_vectors = np.zeros((int(total_n_frames), frame_size * example_sr))\n",
    "target_vectors = np.zeros((int(total_n_frames)))"
   ]
  },
  {
   "cell_type": "code",
   "execution_count": null,
   "metadata": {
    "colab": {
     "base_uri": "https://localhost:8080/"
    },
    "executionInfo": {
     "elapsed": 1020,
     "status": "ok",
     "timestamp": 1614507911284,
     "user": {
      "displayName": "Hooncheol Shin",
      "photoUrl": "https://lh3.googleusercontent.com/a-/AOh14GgOP8xftDNxLBTGt9RYgJKhihLZm89rKAIFTVIf=s64",
      "userId": "09924783447560152895"
     },
     "user_tz": -540
    },
    "id": "MRz3-hVGJ9nS",
    "outputId": "ab4e6cb8-87ef-4a40-d358-aca0254813bd"
   },
   "outputs": [],
   "source": [
    "print(\n",
    "    f'frame_vectors의 shape : {frame_vectors.shape}\\\n",
    "    \\ntarget_vectors의 shape : {target_vectors.shape}'\n",
    ")"
   ]
  },
  {
   "cell_type": "code",
   "execution_count": null,
   "metadata": {
    "colab": {
     "base_uri": "https://localhost:8080/"
    },
    "executionInfo": {
     "elapsed": 764,
     "status": "ok",
     "timestamp": 1614507911716,
     "user": {
      "displayName": "Hooncheol Shin",
      "photoUrl": "https://lh3.googleusercontent.com/a-/AOh14GgOP8xftDNxLBTGt9RYgJKhihLZm89rKAIFTVIf=s64",
      "userId": "09924783447560152895"
     },
     "user_tz": -540
    },
    "id": "6joArRW0J9nT",
    "outputId": "fe600fc9-fb8b-4d66-bdaa-794075e6be6b"
   },
   "outputs": [],
   "source": [
    "for i in range(len(frame_vectors)):\n",
    "    print(f'{i}-th frame vector[:5] : {frame_vectors[i][:5]}')\n",
    "print(f'target_vectors : {target_vectors}')"
   ]
  },
  {
   "cell_type": "code",
   "execution_count": null,
   "metadata": {
    "colab": {
     "base_uri": "https://localhost:8080/"
    },
    "executionInfo": {
     "elapsed": 1010,
     "status": "ok",
     "timestamp": 1614507913195,
     "user": {
      "displayName": "Hooncheol Shin",
      "photoUrl": "https://lh3.googleusercontent.com/a-/AOh14GgOP8xftDNxLBTGt9RYgJKhihLZm89rKAIFTVIf=s64",
      "userId": "09924783447560152895"
     },
     "user_tz": -540
    },
    "id": "uiz8OyO4J9nT",
    "outputId": "30ec9b46-336c-48ed-9ded-3a636a22b723"
   },
   "outputs": [],
   "source": [
    "print(\n",
    "    f'frame vectors의 shape : {frame_vectors.shape}'\n",
    ")"
   ]
  },
  {
   "cell_type": "code",
   "execution_count": null,
   "metadata": {
    "executionInfo": {
     "elapsed": 635,
     "status": "ok",
     "timestamp": 1614507913731,
     "user": {
      "displayName": "Hooncheol Shin",
      "photoUrl": "https://lh3.googleusercontent.com/a-/AOh14GgOP8xftDNxLBTGt9RYgJKhihLZm89rKAIFTVIf=s64",
      "userId": "09924783447560152895"
     },
     "user_tz": -540
    },
    "id": "8e40ip8LJ9nT"
   },
   "outputs": [],
   "source": [
    "current_idx = 0\n",
    "\n",
    "for i, (start, end, y) in example_label.iterrows():\n",
    "    for j in range(each_n_frames[i]):\n",
    "        start_idx = int((start + j * stride) * example_sr)\n",
    "        end_idx = start_idx + frame_size * example_sr\n",
    "        frame_vectors[current_idx] = example_audio[start_idx:end_idx]\n",
    "        target_vectors[current_idx] = y\n",
    "        current_idx += 1"
   ]
  },
  {
   "cell_type": "code",
   "execution_count": null,
   "metadata": {
    "colab": {
     "base_uri": "https://localhost:8080/"
    },
    "executionInfo": {
     "elapsed": 768,
     "status": "ok",
     "timestamp": 1614507914710,
     "user": {
      "displayName": "Hooncheol Shin",
      "photoUrl": "https://lh3.googleusercontent.com/a-/AOh14GgOP8xftDNxLBTGt9RYgJKhihLZm89rKAIFTVIf=s64",
      "userId": "09924783447560152895"
     },
     "user_tz": -540
    },
    "id": "kXj2-EgdJ9nT",
    "outputId": "4fef326c-62cb-4101-be3b-0d687327c7cc"
   },
   "outputs": [],
   "source": [
    "print(\n",
    "    f'frame_vectors의 shape : {frame_vectors.shape}\\\n",
    "    \\ntarget_vectors의 shape : {target_vectors.shape}'\n",
    ")"
   ]
  },
  {
   "cell_type": "code",
   "execution_count": null,
   "metadata": {
    "colab": {
     "base_uri": "https://localhost:8080/"
    },
    "executionInfo": {
     "elapsed": 1162,
     "status": "ok",
     "timestamp": 1614507915906,
     "user": {
      "displayName": "Hooncheol Shin",
      "photoUrl": "https://lh3.googleusercontent.com/a-/AOh14GgOP8xftDNxLBTGt9RYgJKhihLZm89rKAIFTVIf=s64",
      "userId": "09924783447560152895"
     },
     "user_tz": -540
    },
    "id": "a3ffG88bJ9nT",
    "outputId": "6d05235e-9529-4d7b-fd94-18592b0c73a8"
   },
   "outputs": [],
   "source": [
    "for i in range(len(frame_vectors)):\n",
    "    print(f'{i}-th frame vector[:5] : {frame_vectors[i][:5]}')\n",
    "print(f'target_vectors : {target_vectors}')"
   ]
  },
  {
   "cell_type": "markdown",
   "metadata": {
    "id": "1xfPlroYJ9nU"
   },
   "source": [
    "## Feature Extraction: Mel Spectrogram"
   ]
  },
  {
   "cell_type": "code",
   "execution_count": null,
   "metadata": {
    "colab": {
     "base_uri": "https://localhost:8080/",
     "height": 317
    },
    "executionInfo": {
     "elapsed": 1446,
     "status": "error",
     "timestamp": 1614507858070,
     "user": {
      "displayName": "Hooncheol Shin",
      "photoUrl": "https://lh3.googleusercontent.com/a-/AOh14GgOP8xftDNxLBTGt9RYgJKhihLZm89rKAIFTVIf=s64",
      "userId": "09924783447560152895"
     },
     "user_tz": -540
    },
    "id": "szBogMn6J9nU",
    "outputId": "1cf1f412-072c-449d-ce95-72e360f61d06"
   },
   "outputs": [],
   "source": [
    "from matplotlib import pyplot as plt\n",
    "import sounddevice as sd\n",
    "from librosa.display import specshow"
   ]
  },
  {
   "cell_type": "code",
   "execution_count": null,
   "metadata": {
    "executionInfo": {
     "elapsed": 1422,
     "status": "aborted",
     "timestamp": 1614507858058,
     "user": {
      "displayName": "Hooncheol Shin",
      "photoUrl": "https://lh3.googleusercontent.com/a-/AOh14GgOP8xftDNxLBTGt9RYgJKhihLZm89rKAIFTVIf=s64",
      "userId": "09924783447560152895"
     },
     "user_tz": -540
    },
    "id": "S66rq6DPJ9nU"
   },
   "outputs": [],
   "source": [
    "y = frame_vectors[1]"
   ]
  },
  {
   "cell_type": "code",
   "execution_count": null,
   "metadata": {
    "executionInfo": {
     "elapsed": 1424,
     "status": "aborted",
     "timestamp": 1614507858062,
     "user": {
      "displayName": "Hooncheol Shin",
      "photoUrl": "https://lh3.googleusercontent.com/a-/AOh14GgOP8xftDNxLBTGt9RYgJKhihLZm89rKAIFTVIf=s64",
      "userId": "09924783447560152895"
     },
     "user_tz": -540
    },
    "id": "62VcmThTJ9nU"
   },
   "outputs": [],
   "source": [
    "sd.play(y)"
   ]
  },
  {
   "cell_type": "code",
   "execution_count": null,
   "metadata": {
    "executionInfo": {
     "elapsed": 1416,
     "status": "aborted",
     "timestamp": 1614507858062,
     "user": {
      "displayName": "Hooncheol Shin",
      "photoUrl": "https://lh3.googleusercontent.com/a-/AOh14GgOP8xftDNxLBTGt9RYgJKhihLZm89rKAIFTVIf=s64",
      "userId": "09924783447560152895"
     },
     "user_tz": -540
    },
    "id": "YrdFzSlqJ9nU"
   },
   "outputs": [],
   "source": [
    "print(\n",
    "    f'벡터의 shape : {y.shape}\\\n",
    "    \\n벡터의 대략적인 모습은.. :\\n {y}'\n",
    ")"
   ]
  },
  {
   "cell_type": "code",
   "execution_count": null,
   "metadata": {
    "executionInfo": {
     "elapsed": 1414,
     "status": "aborted",
     "timestamp": 1614507858063,
     "user": {
      "displayName": "Hooncheol Shin",
      "photoUrl": "https://lh3.googleusercontent.com/a-/AOh14GgOP8xftDNxLBTGt9RYgJKhihLZm89rKAIFTVIf=s64",
      "userId": "09924783447560152895"
     },
     "user_tz": -540
    },
    "id": "K6ajEuqAJ9nV"
   },
   "outputs": [],
   "source": [
    "x = [t / example_sr for t in range(len(y))]"
   ]
  },
  {
   "cell_type": "code",
   "execution_count": null,
   "metadata": {
    "executionInfo": {
     "elapsed": 1406,
     "status": "aborted",
     "timestamp": 1614507858063,
     "user": {
      "displayName": "Hooncheol Shin",
      "photoUrl": "https://lh3.googleusercontent.com/a-/AOh14GgOP8xftDNxLBTGt9RYgJKhihLZm89rKAIFTVIf=s64",
      "userId": "09924783447560152895"
     },
     "user_tz": -540
    },
    "id": "rGIDwstoJ9nV"
   },
   "outputs": [],
   "source": [
    "plt.figure(figsize=(10, 6))\n",
    "plt.plot(x, y)\n",
    "plt.title('Example Data (bird sound)', fontsize=20)\n",
    "plt.xlabel('Time (sec)', fontsize=16)\n",
    "plt.ylabel('Signal Amplitude', fontsize=16)\n",
    "plt.show()\n"
   ]
  },
  {
   "cell_type": "code",
   "execution_count": null,
   "metadata": {
    "executionInfo": {
     "elapsed": 1399,
     "status": "aborted",
     "timestamp": 1614507858064,
     "user": {
      "displayName": "Hooncheol Shin",
      "photoUrl": "https://lh3.googleusercontent.com/a-/AOh14GgOP8xftDNxLBTGt9RYgJKhihLZm89rKAIFTVIf=s64",
      "userId": "09924783447560152895"
     },
     "user_tz": -540
    },
    "id": "jYZL0syTJ9nV"
   },
   "outputs": [],
   "source": [
    "plt.figure(figsize=(10, 6))\n",
    "plt.plot(x, y)\n",
    "plt.title('Example Data (bird sound)', fontsize=20)\n",
    "plt.xlabel('Time (sec)', fontsize=16)\n",
    "plt.ylabel('Signal Amplitude', fontsize=16)\n",
    "plt.axvspan(xmin=0, xmax=2048 / example_sr, color='gray', alpha=0.5)\n",
    "plt.axvspan(\n",
    "    xmin=512 / example_sr, xmax=(2048 + 512) / example_sr,\n",
    "    color='orange', alpha=0.5\n",
    ")\n",
    "plt.show()"
   ]
  },
  {
   "cell_type": "code",
   "execution_count": null,
   "metadata": {
    "executionInfo": {
     "elapsed": 1392,
     "status": "aborted",
     "timestamp": 1614507858064,
     "user": {
      "displayName": "Hooncheol Shin",
      "photoUrl": "https://lh3.googleusercontent.com/a-/AOh14GgOP8xftDNxLBTGt9RYgJKhihLZm89rKAIFTVIf=s64",
      "userId": "09924783447560152895"
     },
     "user_tz": -540
    },
    "id": "YOESitG5J9nV"
   },
   "outputs": [],
   "source": [
    "plt.figure(figsize=(10, 6))\n",
    "plt.plot(x, y)\n",
    "plt.title('Example Data (bird sound)', fontsize=20)\n",
    "plt.xlabel('Time (sec)', fontsize=16)\n",
    "plt.ylabel('Signal Amplitude', fontsize=16)\n",
    "plt.axvspan(\n",
    "    xmin=0, xmax=2048 / example_sr, color='gray', alpha=0.5\n",
    ")\n",
    "plt.axvspan(\n",
    "    xmin=512 / example_sr, xmax=(2048 + 512 ) / example_sr,\n",
    "    color='orange', alpha=0.5\n",
    ")\n",
    "plt.axvspan(\n",
    "    xmin=(example_sr - 2048) / example_sr, xmax=example_sr / example_sr,\n",
    "    color='darkgoldenrod', alpha=0.5\n",
    ")\n",
    "plt.show()"
   ]
  },
  {
   "cell_type": "code",
   "execution_count": null,
   "metadata": {
    "executionInfo": {
     "elapsed": 1391,
     "status": "aborted",
     "timestamp": 1614507858065,
     "user": {
      "displayName": "Hooncheol Shin",
      "photoUrl": "https://lh3.googleusercontent.com/a-/AOh14GgOP8xftDNxLBTGt9RYgJKhihLZm89rKAIFTVIf=s64",
      "userId": "09924783447560152895"
     },
     "user_tz": -540
    },
    "id": "lvPi_qiqJ9nW"
   },
   "outputs": [],
   "source": [
    "S = librosa.feature.melspectrogram(y=y, sr=example_sr)"
   ]
  },
  {
   "cell_type": "code",
   "execution_count": null,
   "metadata": {
    "executionInfo": {
     "elapsed": 1384,
     "status": "aborted",
     "timestamp": 1614507858065,
     "user": {
      "displayName": "Hooncheol Shin",
      "photoUrl": "https://lh3.googleusercontent.com/a-/AOh14GgOP8xftDNxLBTGt9RYgJKhihLZm89rKAIFTVIf=s64",
      "userId": "09924783447560152895"
     },
     "user_tz": -540
    },
    "id": "RrByIGRgJ9nW"
   },
   "outputs": [],
   "source": [
    "S.shape"
   ]
  },
  {
   "cell_type": "code",
   "execution_count": null,
   "metadata": {
    "executionInfo": {
     "elapsed": 1378,
     "status": "aborted",
     "timestamp": 1614507858066,
     "user": {
      "displayName": "Hooncheol Shin",
      "photoUrl": "https://lh3.googleusercontent.com/a-/AOh14GgOP8xftDNxLBTGt9RYgJKhihLZm89rKAIFTVIf=s64",
      "userId": "09924783447560152895"
     },
     "user_tz": -540
    },
    "id": "0nOBdjkxJ9nW"
   },
   "outputs": [],
   "source": [
    "fig, ax = plt.subplots()\n",
    "S_dB = librosa.power_to_db(S, ref=np.max)\n",
    "img = specshow(\n",
    "    S_dB, x_axis='time', y_axis='mel',\n",
    "    sr=example_sr, fmax=8000, ax=ax\n",
    ")\n",
    "fig.colorbar(img, ax=ax, format='%+2.0f dB')\n",
    "ax.set(title='Mel-frequency spectrogram')\n",
    "plt.show()"
   ]
  },
  {
   "cell_type": "code",
   "execution_count": null,
   "metadata": {
    "executionInfo": {
     "elapsed": 1371,
     "status": "aborted",
     "timestamp": 1614507858066,
     "user": {
      "displayName": "Hooncheol Shin",
      "photoUrl": "https://lh3.googleusercontent.com/a-/AOh14GgOP8xftDNxLBTGt9RYgJKhihLZm89rKAIFTVIf=s64",
      "userId": "09924783447560152895"
     },
     "user_tz": -540
    },
    "id": "rhKgPXaGJ9nW"
   },
   "outputs": [],
   "source": [
    "fig, ax = plt.subplots()\n",
    "img = specshow(\n",
    "    S, x_axis='time', y_axis='mel',\n",
    "    sr=example_sr, fmax=8000, ax=ax\n",
    ")\n",
    "fig.colorbar(img, ax=ax, format='%+2.0f')\n",
    "ax.set(title='Mel-frequency spectrogram')\n",
    "plt.show()"
   ]
  },
  {
   "cell_type": "code",
   "execution_count": null,
   "metadata": {
    "executionInfo": {
     "elapsed": 1364,
     "status": "aborted",
     "timestamp": 1614507858067,
     "user": {
      "displayName": "Hooncheol Shin",
      "photoUrl": "https://lh3.googleusercontent.com/a-/AOh14GgOP8xftDNxLBTGt9RYgJKhihLZm89rKAIFTVIf=s64",
      "userId": "09924783447560152895"
     },
     "user_tz": -540
    },
    "id": "2YsCKQbfJ9nW"
   },
   "outputs": [],
   "source": [
    "print(\n",
    "    f'1초 신호 데이터는 다음과 같이 변합니다.\\\n",
    "    \\nBefore shape (signal) : {y.shape}\\\n",
    "    \\nAfter shape (Mel Spectrogram) : {S_dB.shape}'\n",
    ")"
   ]
  },
  {
   "cell_type": "code",
   "execution_count": null,
   "metadata": {
    "executionInfo": {
     "elapsed": 1362,
     "status": "aborted",
     "timestamp": 1614507858067,
     "user": {
      "displayName": "Hooncheol Shin",
      "photoUrl": "https://lh3.googleusercontent.com/a-/AOh14GgOP8xftDNxLBTGt9RYgJKhihLZm89rKAIFTVIf=s64",
      "userId": "09924783447560152895"
     },
     "user_tz": -540
    },
    "id": "ahpvn0DRJ9nX"
   },
   "outputs": [],
   "source": [
    "S_power = librosa.db_to_power(S_dB)"
   ]
  },
  {
   "cell_type": "code",
   "execution_count": null,
   "metadata": {
    "executionInfo": {
     "elapsed": 1361,
     "status": "aborted",
     "timestamp": 1614507858068,
     "user": {
      "displayName": "Hooncheol Shin",
      "photoUrl": "https://lh3.googleusercontent.com/a-/AOh14GgOP8xftDNxLBTGt9RYgJKhihLZm89rKAIFTVIf=s64",
      "userId": "09924783447560152895"
     },
     "user_tz": -540
    },
    "id": "2pkucsauJ9nX"
   },
   "outputs": [],
   "source": [
    "sd.play(y, 22050)"
   ]
  },
  {
   "cell_type": "code",
   "execution_count": null,
   "metadata": {
    "executionInfo": {
     "elapsed": 1359,
     "status": "aborted",
     "timestamp": 1614507858068,
     "user": {
      "displayName": "Hooncheol Shin",
      "photoUrl": "https://lh3.googleusercontent.com/a-/AOh14GgOP8xftDNxLBTGt9RYgJKhihLZm89rKAIFTVIf=s64",
      "userId": "09924783447560152895"
     },
     "user_tz": -540
    },
    "id": "kX-G0lzCJ9nX"
   },
   "outputs": [],
   "source": [
    "sd.play(librosa.feature.inverse.mel_to_audio(S_power), 22050)"
   ]
  },
  {
   "cell_type": "code",
   "execution_count": null,
   "metadata": {
    "executionInfo": {
     "elapsed": 1358,
     "status": "aborted",
     "timestamp": 1614507858069,
     "user": {
      "displayName": "Hooncheol Shin",
      "photoUrl": "https://lh3.googleusercontent.com/a-/AOh14GgOP8xftDNxLBTGt9RYgJKhihLZm89rKAIFTVIf=s64",
      "userId": "09924783447560152895"
     },
     "user_tz": -540
    },
    "id": "HG2sVv67J9nX"
   },
   "outputs": [],
   "source": [
    "sd.play(librosa.feature.inverse.mel_to_audio(S_dB), 22050)"
   ]
  },
  {
   "cell_type": "markdown",
   "metadata": {
    "id": "52MpW7O8J9nX"
   },
   "source": [
    "## 레이블 데이터 정리"
   ]
  },
  {
   "cell_type": "code",
   "execution_count": null,
   "metadata": {
    "executionInfo": {
     "elapsed": 1180,
     "status": "ok",
     "timestamp": 1614595785273,
     "user": {
      "displayName": "Hooncheol Shin",
      "photoUrl": "https://lh3.googleusercontent.com/a-/AOh14GgOP8xftDNxLBTGt9RYgJKhihLZm89rKAIFTVIf=s64",
      "userId": "09924783447560152895"
     },
     "user_tz": -540
    },
    "id": "s-0eK7KMJ9nX"
   },
   "outputs": [],
   "source": [
    "from os import listdir\n",
    "from os.path import join, splitext\n",
    "import pandas as pd"
   ]
  },
  {
   "cell_type": "code",
   "execution_count": null,
   "metadata": {
    "executionInfo": {
     "elapsed": 7870,
     "status": "ok",
     "timestamp": 1614595799938,
     "user": {
      "displayName": "Hooncheol Shin",
      "photoUrl": "https://lh3.googleusercontent.com/a-/AOh14GgOP8xftDNxLBTGt9RYgJKhihLZm89rKAIFTVIf=s64",
      "userId": "09924783447560152895"
     },
     "user_tz": -540
    },
    "id": "F3RTS2bTJ9nY"
   },
   "outputs": [],
   "source": [
    "label_path = './data/data/labels/'\n",
    "label_files = [\n",
    "    f for f in listdir(label_path)\n",
    "    if splitext(join(label_path, f))[-1] == '.txt'\n",
    "]"
   ]
  },
  {
   "cell_type": "code",
   "execution_count": null,
   "metadata": {
    "colab": {
     "base_uri": "https://localhost:8080/"
    },
    "executionInfo": {
     "elapsed": 7556,
     "status": "ok",
     "timestamp": 1614595799939,
     "user": {
      "displayName": "Hooncheol Shin",
      "photoUrl": "https://lh3.googleusercontent.com/a-/AOh14GgOP8xftDNxLBTGt9RYgJKhihLZm89rKAIFTVIf=s64",
      "userId": "09924783447560152895"
     },
     "user_tz": -540
    },
    "id": "MFqmyjNCJ9nY",
    "outputId": "fed3f341-8c90-4f88-b4ca-cb9b22b9af88"
   },
   "outputs": [],
   "source": [
    "print(\n",
    "    f'label file 목록 예시 : {label_files[:3]}'\n",
    ")"
   ]
  },
  {
   "cell_type": "code",
   "execution_count": null,
   "metadata": {
    "colab": {
     "base_uri": "https://localhost:8080/"
    },
    "executionInfo": {
     "elapsed": 82083,
     "status": "ok",
     "timestamp": 1614595884924,
     "user": {
      "displayName": "Hooncheol Shin",
      "photoUrl": "https://lh3.googleusercontent.com/a-/AOh14GgOP8xftDNxLBTGt9RYgJKhihLZm89rKAIFTVIf=s64",
      "userId": "09924783447560152895"
     },
     "user_tz": -540
    },
    "id": "yAdCedc-J9nY",
    "outputId": "f1abec71-591a-46ed-ea15-70de9c9be87f"
   },
   "outputs": [],
   "source": [
    "list_file_fn = 'file_list.xlsx'  # (1)\n",
    "file_n = 0\n",
    "with pd.ExcelWriter(list_file_fn) as writer:  # (2)\n",
    "    audio_names = []  # (3)\n",
    "    for i, file_name in enumerate(label_files):\n",
    "        if file_name[:-3] + 'wav' not in listdir('./data/data/raw_data/'):\n",
    "            raise FileNotFoundError('file not match')\n",
    "        if file_name[:-3] + 'wav' in listdir('./data/data/raw_data/'):\n",
    "            temp = pd.read_csv(label_path + file_name, sep='\\t', header=None)\n",
    "            temp.columns = ['start(s)', 'end(s)', 'label']\n",
    "            temp.to_excel(writer, index=False, sheet_name=str(file_n))  # (4)\n",
    "            file_n += 1\n",
    "            audio_names.append(file_name[:-3] + 'wav')  # (5)\n",
    "        if i == len(label_files) - 1:  # (6)\n",
    "            pd.DataFrame(\n",
    "                audio_names, columns=['audio_name']\n",
    "            ).to_excel(writer, sheet_name='list')"
   ]
  },
  {
   "cell_type": "markdown",
   "metadata": {
    "id": "XCxebgRXJ9nY"
   },
   "source": [
    "## 전체 데이터 전처리"
   ]
  },
  {
   "cell_type": "code",
   "execution_count": null,
   "metadata": {
    "executionInfo": {
     "elapsed": 53135,
     "status": "ok",
     "timestamp": 1614595888299,
     "user": {
      "displayName": "Hooncheol Shin",
      "photoUrl": "https://lh3.googleusercontent.com/a-/AOh14GgOP8xftDNxLBTGt9RYgJKhihLZm89rKAIFTVIf=s64",
      "userId": "09924783447560152895"
     },
     "user_tz": -540
    },
    "id": "X_X69BA4J9nY"
   },
   "outputs": [],
   "source": [
    "import time\n",
    "import math\n",
    "\n",
    "import numpy as np\n",
    "import pandas as pd\n",
    "from tqdm import tqdm\n",
    "import librosa\n",
    "from torch.utils.data import Dataset, DataLoader"
   ]
  },
  {
   "cell_type": "code",
   "execution_count": null,
   "metadata": {
    "executionInfo": {
     "elapsed": 814,
     "status": "ok",
     "timestamp": 1614595889902,
     "user": {
      "displayName": "Hooncheol Shin",
      "photoUrl": "https://lh3.googleusercontent.com/a-/AOh14GgOP8xftDNxLBTGt9RYgJKhihLZm89rKAIFTVIf=s64",
      "userId": "09924783447560152895"
     },
     "user_tz": -540
    },
    "id": "n85jWudQJ9nZ"
   },
   "outputs": [],
   "source": [
    "def load_label_data(file_path, i, frame_size):\n",
    "    audio_label = pd.read_excel(file_path, sheet_name=str(i))  # (1)\n",
    "    audio_label['label'] = audio_label['label'].apply(\n",
    "        lambda x: int(str(x)[0])\n",
    "    )\n",
    " \n",
    "    audio_label = np.array(audio_label)  # (2)\n",
    "    audio_label = audio_label[\n",
    "        (audio_label[:, 1] - audio_label[:, 0] > frame_size)\n",
    "    ]  # (3)\n",
    "    return audio_label\n",
    " \n",
    "def load_sound_data(file_path, sampling_rate):\n",
    "    audio, sr = librosa.load(file_path, sr=sampling_rate)  # (4)\n",
    "    return audio, sr"
   ]
  },
  {
   "cell_type": "code",
   "execution_count": null,
   "metadata": {
    "executionInfo": {
     "elapsed": 803,
     "status": "ok",
     "timestamp": 1614595889903,
     "user": {
      "displayName": "Hooncheol Shin",
      "photoUrl": "https://lh3.googleusercontent.com/a-/AOh14GgOP8xftDNxLBTGt9RYgJKhihLZm89rKAIFTVIf=s64",
      "userId": "09924783447560152895"
     },
     "user_tz": -540
    },
    "id": "hbY9aYHkbDFF"
   },
   "outputs": [],
   "source": [
    "def process_frame(audio, sr, label, frame_size=1, stride=0.2):\n",
    "    n = np.sum(\n",
    "        np.floor(\n",
    "            (\n",
    "                (label[:, 1] - label[:, 0]) - frame_size\n",
    "            ) / stride + frame_size\n",
    "        )\n",
    "    )  # (1)\n",
    " \n",
    "    frame_vector = np.zeros((int(n), frame_size * sr))  # (2)\n",
    "    target_vector = np.zeros((int(n), 1))  # (3)\n",
    " \n",
    "    i = 0\n",
    " \n",
    "    for temp_label in label:  # (4)\n",
    "        start = temp_label[0]  # (5)\n",
    "        end = temp_label[1]  # (6)\n",
    "        y = temp_label[2]  # (7)\n",
    " \n",
    "        eter = int(\n",
    "            np.floor((((end - start) - frame_size) / stride) + 1)\n",
    "        )  # (8)\n",
    " \n",
    "        for j in range(eter):  # (9)\n",
    "            start_idx = int((start + j * stride) * sr)\n",
    "            end_idx = start_idx + frame_size * sr\n",
    "            frame_vector[i] = audio[start_idx:end_idx]  # (10)\n",
    "            target_vector[i] = y  # (11)\n",
    "            i += 1\n",
    "    return frame_vector, target_vector"
   ]
  },
  {
   "cell_type": "code",
   "execution_count": null,
   "metadata": {
    "executionInfo": {
     "elapsed": 791,
     "status": "ok",
     "timestamp": 1614595889903,
     "user": {
      "displayName": "Hooncheol Shin",
      "photoUrl": "https://lh3.googleusercontent.com/a-/AOh14GgOP8xftDNxLBTGt9RYgJKhihLZm89rKAIFTVIf=s64",
      "userId": "09924783447560152895"
     },
     "user_tz": -540
    },
    "id": "ru7SpSTta3L9"
   },
   "outputs": [],
   "source": [
    "def extract_mel_feature(frame_vector, sr, n_mels, st=512):\n",
    "    mel_feature = librosa.feature.melspectrogram(\n",
    "        y=frame_vector, sr=sr, n_mels=n_mels, hop_length=st\n",
    "    )  # (1)\n",
    "    mel_feature = librosa.core.power_to_db(\n",
    "        mel_feature, ref=np.max\n",
    "    )  # (2)\n",
    "    return mel_feature"
   ]
  },
  {
   "cell_type": "code",
   "execution_count": null,
   "metadata": {
    "executionInfo": {
     "elapsed": 781,
     "status": "ok",
     "timestamp": 1614595889904,
     "user": {
      "displayName": "Hooncheol Shin",
      "photoUrl": "https://lh3.googleusercontent.com/a-/AOh14GgOP8xftDNxLBTGt9RYgJKhihLZm89rKAIFTVIf=s64",
      "userId": "09924783447560152895"
     },
     "user_tz": -540
    },
    "id": "bJp_STumSlTC"
   },
   "outputs": [],
   "source": [
    "def extract_mel_power_feature(frame_vector, sr, n_mels, st=512):\n",
    "    mel_feature = librosa.feature.melspectrogram(\n",
    "        y=frame_vector, sr=sr, n_mels=n_mels, hop_length=st\n",
    "    )  # (1)\n",
    "    return mel_feature"
   ]
  },
  {
   "cell_type": "code",
   "execution_count": 122,
   "metadata": {
    "colab": {
     "base_uri": "https://localhost:8080/"
    },
    "executionInfo": {
     "elapsed": 764479,
     "status": "ok",
     "timestamp": 1614596658415,
     "user": {
      "displayName": "Hooncheol Shin",
      "photoUrl": "https://lh3.googleusercontent.com/a-/AOh14GgOP8xftDNxLBTGt9RYgJKhihLZm89rKAIFTVIf=s64",
      "userId": "09924783447560152895"
     },
     "user_tz": -540
    },
    "id": "6HmTodeucFwa",
    "outputId": "572d0cf9-41d3-4e7a-ceb1-09eebd932e5c"
   },
   "outputs": [
    {
     "name": "stdout",
     "output_type": "stream",
     "text": [
      "0-th 파일을 처리하고 있습니다.\n"
     ]
    }
   ],
   "source": [
    "sr = 22050\n",
    "frame_size = 1\n",
    "stride = 0.2\n",
    "n_mels = 64\n",
    "n_feature = 34\n",
    "short_time = 512\n",
    " \n",
    "file_list = pd.read_excel('./file_list.xlsx', sheet_name='list')  # (1)\n",
    " \n",
    "frame_vectors = []\n",
    "label_vectors = []\n",
    "idx_count = []\n",
    " \n",
    "for file_i, file_name in enumerate(file_list['audio_name']):  # (2)\n",
    "    if file_i % 10 == 0:\n",
    "        print(f'{file_i}-th 파일을 처리하고 있습니다.')\n",
    " \n",
    "    label_data_temp = load_label_data(\n",
    "        './file_list.xlsx', file_i, frame_size\n",
    "    )  # (3)\n",
    " \n",
    "    if len(label_data_temp) == 0:  # (4)\n",
    "        idx_count.append(0)\n",
    "        continue\n",
    " \n",
    "    audio_path = './data/data/raw_data/' + file_name\n",
    "    audio_data_temp, _ = load_sound_data(audio_path, sr)  # (5)\n",
    " \n",
    "    frame_vector, label_vector = process_frame(\n",
    "        audio=audio_data_temp, sr=sr, label=label_data_temp,\n",
    "        frame_size=frame_size, stride=stride\n",
    "    )  # (6)\n",
    "    frame_vectors.append(frame_vector)\n",
    "    label_vectors.append(label_vector)\n",
    "    \n",
    "    idx_count.append(frame_vector.shape[0])\n",
    "    \n",
    "frame_vectors = np.concatenate(frame_vectors)  # (7)\n",
    "label_vectors = np.concatenate(label_vectors)"
   ]
  },
  {
   "cell_type": "code",
   "execution_count": null,
   "metadata": {
    "colab": {
     "base_uri": "https://localhost:8080/"
    },
    "executionInfo": {
     "elapsed": 959,
     "status": "ok",
     "timestamp": 1614596694933,
     "user": {
      "displayName": "Hooncheol Shin",
      "photoUrl": "https://lh3.googleusercontent.com/a-/AOh14GgOP8xftDNxLBTGt9RYgJKhihLZm89rKAIFTVIf=s64",
      "userId": "09924783447560152895"
     },
     "user_tz": -540
    },
    "id": "2Jqf5sTyJ9na",
    "outputId": "1369942a-78d3-4c26-ad6e-09c30ce71ed8"
   },
   "outputs": [],
   "source": [
    "print(\n",
    "    f'label vectors 의 shape: {label_vectors.shape}\\\n",
    "    \\n비명 갯수 : {int(sum(label_vectors == 1))}\\\n",
    "    \\n비명 아닌 갯수 : {int(sum(label_vectors == 0))}'\n",
    ")"
   ]
  },
  {
   "cell_type": "code",
   "execution_count": null,
   "metadata": {
    "colab": {
     "base_uri": "https://localhost:8080/"
    },
    "executionInfo": {
     "elapsed": 795767,
     "status": "ok",
     "timestamp": 1614596693810,
     "user": {
      "displayName": "Hooncheol Shin",
      "photoUrl": "https://lh3.googleusercontent.com/a-/AOh14GgOP8xftDNxLBTGt9RYgJKhihLZm89rKAIFTVIf=s64",
      "userId": "09924783447560152895"
     },
     "user_tz": -540
    },
    "id": "wGt-X5imJ9nZ",
    "outputId": "38193af5-e0e0-451f-e47a-19de771dcae9"
   },
   "outputs": [],
   "source": [
    "mel_features = []\n",
    "for frame_vector in frame_vectors:\n",
    "    mel_feature = extract_mel_feature(\n",
    "        frame_vector=frame_vector, sr=sr, n_mels=n_mels\n",
    "    )\n",
    "    mel_features.append(mel_feature)\n",
    "mel_features = np.stack(mel_features)\n",
    "print(f'mel spectrogram shape: {mel_features.shape}')"
   ]
  },
  {
   "cell_type": "code",
   "execution_count": null,
   "metadata": {
    "colab": {
     "base_uri": "https://localhost:8080/"
    },
    "executionInfo": {
     "elapsed": 888,
     "status": "ok",
     "timestamp": 1614596694934,
     "user": {
      "displayName": "Hooncheol Shin",
      "photoUrl": "https://lh3.googleusercontent.com/a-/AOh14GgOP8xftDNxLBTGt9RYgJKhihLZm89rKAIFTVIf=s64",
      "userId": "09924783447560152895"
     },
     "user_tz": -540
    },
    "id": "C7eKj9FpJ9na",
    "outputId": "1434b525-921b-442b-bbef-952ef4eb0038"
   },
   "outputs": [],
   "source": [
    "train_ratio = 0.7  # (1)\n",
    "\n",
    "total_n = frame_vectors.shape[0]  # (2)\n",
    "train_n = int(total_n * train_ratio)  # (3)\n",
    "\n",
    "train_idxes = np.random.choice(total_n, train_n, replace=False)  # (4)\n",
    "\n",
    "train_mask = np.zeros(shape=total_n, dtype=bool)  # (5)\n",
    "train_mask[train_idxes] = True  # (6)"
   ]
  },
  {
   "cell_type": "code",
   "execution_count": null,
   "metadata": {},
   "outputs": [],
   "source": [
    "print(train_mask[:10])"
   ]
  },
  {
   "cell_type": "code",
   "execution_count": null,
   "metadata": {
    "colab": {
     "base_uri": "https://localhost:8080/"
    },
    "executionInfo": {
     "elapsed": 839,
     "status": "ok",
     "timestamp": 1614596694936,
     "user": {
      "displayName": "Hooncheol Shin",
      "photoUrl": "https://lh3.googleusercontent.com/a-/AOh14GgOP8xftDNxLBTGt9RYgJKhihLZm89rKAIFTVIf=s64",
      "userId": "09924783447560152895"
     },
     "user_tz": -540
    },
    "id": "L70GOSSrb1Gu",
    "outputId": "ab013d1d-0a45-43a6-ab51-e8367296843b"
   },
   "outputs": [],
   "source": [
    "train_idxes[:10]"
   ]
  },
  {
   "cell_type": "code",
   "execution_count": null,
   "metadata": {
    "executionInfo": {
     "elapsed": 615,
     "status": "ok",
     "timestamp": 1614543905083,
     "user": {
      "displayName": "Hooncheol Shin",
      "photoUrl": "https://lh3.googleusercontent.com/a-/AOh14GgOP8xftDNxLBTGt9RYgJKhihLZm89rKAIFTVIf=s64",
      "userId": "09924783447560152895"
     },
     "user_tz": -540
    },
    "id": "Vt-hG-wR9wrn"
   },
   "outputs": [],
   "source": [
    "# idxes = []\n",
    "# now = 0\n",
    "# for i, count in enumerate(idx_count):\n",
    "#     idxes.append([j for j in range(now, now + count)])\n",
    "#     now += count"
   ]
  },
  {
   "cell_type": "code",
   "execution_count": null,
   "metadata": {
    "executionInfo": {
     "elapsed": 1141,
     "status": "ok",
     "timestamp": 1614543961447,
     "user": {
      "displayName": "Hooncheol Shin",
      "photoUrl": "https://lh3.googleusercontent.com/a-/AOh14GgOP8xftDNxLBTGt9RYgJKhihLZm89rKAIFTVIf=s64",
      "userId": "09924783447560152895"
     },
     "user_tz": -540
    },
    "id": "e2nTKqg7-Xun"
   },
   "outputs": [],
   "source": [
    "# import random\n",
    "# random.shuffle(idxes)\n",
    "# # idxes[:5]"
   ]
  },
  {
   "cell_type": "code",
   "execution_count": null,
   "metadata": {
    "executionInfo": {
     "elapsed": 564,
     "status": "ok",
     "timestamp": 1614543968785,
     "user": {
      "displayName": "Hooncheol Shin",
      "photoUrl": "https://lh3.googleusercontent.com/a-/AOh14GgOP8xftDNxLBTGt9RYgJKhihLZm89rKAIFTVIf=s64",
      "userId": "09924783447560152895"
     },
     "user_tz": -540
    },
    "id": "uBqMr_C7AYaR"
   },
   "outputs": [],
   "source": [
    "# train_idxes = []\n",
    "# for idx in idxes:\n",
    "#     train_idxes.extend(idx)\n",
    "#     if len(train_idxes) > train_idx:\n",
    "#         break "
   ]
  },
  {
   "cell_type": "code",
   "execution_count": null,
   "metadata": {
    "colab": {
     "base_uri": "https://localhost:8080/"
    },
    "executionInfo": {
     "elapsed": 597,
     "status": "ok",
     "timestamp": 1614545894190,
     "user": {
      "displayName": "Hooncheol Shin",
      "photoUrl": "https://lh3.googleusercontent.com/a-/AOh14GgOP8xftDNxLBTGt9RYgJKhihLZm89rKAIFTVIf=s64",
      "userId": "09924783447560152895"
     },
     "user_tz": -540
    },
    "id": "wnZegdoiA45m",
    "outputId": "fa0e49cb-676b-4440-846e-7c6a81668368"
   },
   "outputs": [],
   "source": [
    "# len(train_idxes)"
   ]
  },
  {
   "cell_type": "code",
   "execution_count": null,
   "metadata": {
    "executionInfo": {
     "elapsed": 819,
     "status": "ok",
     "timestamp": 1614596694937,
     "user": {
      "displayName": "Hooncheol Shin",
      "photoUrl": "https://lh3.googleusercontent.com/a-/AOh14GgOP8xftDNxLBTGt9RYgJKhihLZm89rKAIFTVIf=s64",
      "userId": "09924783447560152895"
     },
     "user_tz": -540
    },
    "id": "5QQd-TeCDUqa"
   },
   "outputs": [],
   "source": []
  },
  {
   "cell_type": "code",
   "execution_count": null,
   "metadata": {
    "executionInfo": {
     "elapsed": 798,
     "status": "ok",
     "timestamp": 1614596694938,
     "user": {
      "displayName": "Hooncheol Shin",
      "photoUrl": "https://lh3.googleusercontent.com/a-/AOh14GgOP8xftDNxLBTGt9RYgJKhihLZm89rKAIFTVIf=s64",
      "userId": "09924783447560152895"
     },
     "user_tz": -540
    },
    "id": "BXoI4GGoBSbi"
   },
   "outputs": [],
   "source": [
    "train_mel_features = mel_features[train_mask]\n",
    "valid_mel_features = mel_features[~train_mask]\n",
    "\n",
    "train_label_vectors = label_vectors[train_mask]\n",
    "valid_label_vectors = label_vectors[~train_mask]"
   ]
  },
  {
   "cell_type": "code",
   "execution_count": null,
   "metadata": {
    "colab": {
     "base_uri": "https://localhost:8080/"
    },
    "executionInfo": {
     "elapsed": 1174,
     "status": "ok",
     "timestamp": 1614596696205,
     "user": {
      "displayName": "Hooncheol Shin",
      "photoUrl": "https://lh3.googleusercontent.com/a-/AOh14GgOP8xftDNxLBTGt9RYgJKhihLZm89rKAIFTVIf=s64",
      "userId": "09924783447560152895"
     },
     "user_tz": -540
    },
    "id": "uCp0E67bJ9nb",
    "outputId": "ac684c33-8e7e-49cb-a762-837453261e72"
   },
   "outputs": [],
   "source": [
    "print(sum(train_label_vectors==0))\n",
    "print(sum(train_label_vectors==1))"
   ]
  },
  {
   "cell_type": "code",
   "execution_count": null,
   "metadata": {
    "colab": {
     "base_uri": "https://localhost:8080/"
    },
    "executionInfo": {
     "elapsed": 1130,
     "status": "ok",
     "timestamp": 1614596696206,
     "user": {
      "displayName": "Hooncheol Shin",
      "photoUrl": "https://lh3.googleusercontent.com/a-/AOh14GgOP8xftDNxLBTGt9RYgJKhihLZm89rKAIFTVIf=s64",
      "userId": "09924783447560152895"
     },
     "user_tz": -540
    },
    "id": "VnvB_EynJ9nb",
    "outputId": "f129e69c-77cb-4a76-e1a2-491463995ae0"
   },
   "outputs": [],
   "source": [
    "print(sum(valid_label_vectors==0))\n",
    "print(sum(valid_label_vectors==1))"
   ]
  },
  {
   "cell_type": "markdown",
   "metadata": {
    "id": "nnZrzbKzJ9nc"
   },
   "source": [
    "## PyTorch 데이터셋 & 로더 구현"
   ]
  },
  {
   "cell_type": "code",
   "execution_count": null,
   "metadata": {
    "executionInfo": {
     "elapsed": 1063,
     "status": "ok",
     "timestamp": 1614596696207,
     "user": {
      "displayName": "Hooncheol Shin",
      "photoUrl": "https://lh3.googleusercontent.com/a-/AOh14GgOP8xftDNxLBTGt9RYgJKhihLZm89rKAIFTVIf=s64",
      "userId": "09924783447560152895"
     },
     "user_tz": -540
    },
    "id": "ENA54USfJ9nc"
   },
   "outputs": [],
   "source": [
    "class ScreamDataset(Dataset):\n",
    "    def __init__(self, x, y):\n",
    "        self.audio_features = x\n",
    "        self.labels = y\n",
    "    \n",
    "    def __len__(self):\n",
    "        return len(self.audio_features)\n",
    "    \n",
    "    def __getitem__(self, idx):\n",
    "        audio_feature = torch.FloatTensor(self.audio_features[idx])\n",
    "        audio_feature = audio_feature.unsqueeze(0)\n",
    "        label = self.labels[idx]\n",
    "        return (audio_feature, label)"
   ]
  },
  {
   "cell_type": "code",
   "execution_count": null,
   "metadata": {
    "executionInfo": {
     "elapsed": 1045,
     "status": "ok",
     "timestamp": 1614596696207,
     "user": {
      "displayName": "Hooncheol Shin",
      "photoUrl": "https://lh3.googleusercontent.com/a-/AOh14GgOP8xftDNxLBTGt9RYgJKhihLZm89rKAIFTVIf=s64",
      "userId": "09924783447560152895"
     },
     "user_tz": -540
    },
    "id": "4YBgENGX2tt4"
   },
   "outputs": [],
   "source": [
    "batch_size = 128\n",
    "learning_rate = 0.001\n",
    "epochs = 10"
   ]
  },
  {
   "cell_type": "code",
   "execution_count": null,
   "metadata": {
    "executionInfo": {
     "elapsed": 1025,
     "status": "ok",
     "timestamp": 1614596696209,
     "user": {
      "displayName": "Hooncheol Shin",
      "photoUrl": "https://lh3.googleusercontent.com/a-/AOh14GgOP8xftDNxLBTGt9RYgJKhihLZm89rKAIFTVIf=s64",
      "userId": "09924783447560152895"
     },
     "user_tz": -540
    },
    "id": "AbUMJoWvJ9nc"
   },
   "outputs": [],
   "source": [
    "train_dataset = ScreamDataset(\n",
    "    train_mel_features, train_label_vectors\n",
    ")  # (1)\n",
    "train_loader = DataLoader(\n",
    "    train_dataset, batch_size=batch_size, shuffle=True\n",
    ")  # (2)"
   ]
  },
  {
   "cell_type": "code",
   "execution_count": null,
   "metadata": {
    "executionInfo": {
     "elapsed": 1009,
     "status": "ok",
     "timestamp": 1614596696209,
     "user": {
      "displayName": "Hooncheol Shin",
      "photoUrl": "https://lh3.googleusercontent.com/a-/AOh14GgOP8xftDNxLBTGt9RYgJKhihLZm89rKAIFTVIf=s64",
      "userId": "09924783447560152895"
     },
     "user_tz": -540
    },
    "id": "uKm5fnDtJ9nd"
   },
   "outputs": [],
   "source": [
    "valid_dataset = ScreamDataset(\n",
    "    valid_mel_features, valid_label_vectors\n",
    ")  # (1)\n",
    "valid_loader = DataLoader(\n",
    "    valid_dataset, batch_size=batch_size, shuffle=False\n",
    ")  # (2)"
   ]
  },
  {
   "cell_type": "markdown",
   "metadata": {
    "id": "FjF8wn3ZJ9nd"
   },
   "source": [
    "## 모델 클래스 구현"
   ]
  },
  {
   "cell_type": "code",
   "execution_count": null,
   "metadata": {
    "executionInfo": {
     "elapsed": 962,
     "status": "ok",
     "timestamp": 1614596696210,
     "user": {
      "displayName": "Hooncheol Shin",
      "photoUrl": "https://lh3.googleusercontent.com/a-/AOh14GgOP8xftDNxLBTGt9RYgJKhihLZm89rKAIFTVIf=s64",
      "userId": "09924783447560152895"
     },
     "user_tz": -540
    },
    "id": "67uiJzf0J9nd"
   },
   "outputs": [],
   "source": [
    "import torch\n",
    "from torch import nn"
   ]
  },
  {
   "cell_type": "code",
   "execution_count": null,
   "metadata": {
    "executionInfo": {
     "elapsed": 946,
     "status": "ok",
     "timestamp": 1614596696211,
     "user": {
      "displayName": "Hooncheol Shin",
      "photoUrl": "https://lh3.googleusercontent.com/a-/AOh14GgOP8xftDNxLBTGt9RYgJKhihLZm89rKAIFTVIf=s64",
      "userId": "09924783447560152895"
     },
     "user_tz": -540
    },
    "id": "M3LR2foqn7y9"
   },
   "outputs": [],
   "source": [
    "device = 'cuda' if torch.cuda.is_available() else 'cpu'\n",
    "\n",
    "model = nn.Sequential(\n",
    "    # |x| = (n, 1, 64, 44)\n",
    "    nn.Conv2d(\n",
    "        in_channels=1,\n",
    "        out_channels=32,\n",
    "        kernel_size=(64, 1),\n",
    "    ),\n",
    "    # |x| = (n, 32, 1, 44)\n",
    "    nn.BatchNorm2d(32),\n",
    "    nn.ReLU(),\n",
    "    nn.Dropout2d(p=0.3),\n",
    "    nn.Conv2d(\n",
    "        in_channels=32,\n",
    "        out_channels=64,\n",
    "        kernel_size=(1, 9),\n",
    "        stride=4\n",
    "    ),\n",
    "    # |x| = (n, 64, 1, 9)\n",
    "    nn.BatchNorm2d(64),\n",
    "    nn.ReLU(),\n",
    "    nn.Dropout2d(p=0.3),\n",
    "    nn.Flatten(),\n",
    "    # |x| = (n, 64 * 1 * 9)\n",
    "    nn.Linear(64 * 1 * 9, 1),\n",
    "    # |x| = (n, 1)\n",
    ").to(device)"
   ]
  },
  {
   "cell_type": "markdown",
   "metadata": {
    "id": "0ilVNO7JJ9nd"
   },
   "source": [
    "## 모델 학습"
   ]
  },
  {
   "cell_type": "code",
   "execution_count": null,
   "metadata": {
    "executionInfo": {
     "elapsed": 931,
     "status": "ok",
     "timestamp": 1614596696211,
     "user": {
      "displayName": "Hooncheol Shin",
      "photoUrl": "https://lh3.googleusercontent.com/a-/AOh14GgOP8xftDNxLBTGt9RYgJKhihLZm89rKAIFTVIf=s64",
      "userId": "09924783447560152895"
     },
     "user_tz": -540
    },
    "id": "WBbrXukkJ9nd"
   },
   "outputs": [],
   "source": [
    "import torch\n",
    "from torch import optim\n",
    "from sklearn.metrics import f1_score, accuracy_score"
   ]
  },
  {
   "cell_type": "code",
   "execution_count": null,
   "metadata": {
    "executionInfo": {
     "elapsed": 900,
     "status": "ok",
     "timestamp": 1614596696212,
     "user": {
      "displayName": "Hooncheol Shin",
      "photoUrl": "https://lh3.googleusercontent.com/a-/AOh14GgOP8xftDNxLBTGt9RYgJKhihLZm89rKAIFTVIf=s64",
      "userId": "09924783447560152895"
     },
     "user_tz": -540
    },
    "id": "V4AsWTu4J9ne"
   },
   "outputs": [],
   "source": [
    "criterion = nn.BCEWithLogitsLoss()  # (1)\n",
    "optimizer = optim.Adam(model.parameters(), lr=learning_rate)  # (2)"
   ]
  },
  {
   "cell_type": "code",
   "execution_count": null,
   "metadata": {
    "colab": {
     "base_uri": "https://localhost:8080/"
    },
    "executionInfo": {
     "elapsed": 167157,
     "status": "ok",
     "timestamp": 1614596862534,
     "user": {
      "displayName": "Hooncheol Shin",
      "photoUrl": "https://lh3.googleusercontent.com/a-/AOh14GgOP8xftDNxLBTGt9RYgJKhihLZm89rKAIFTVIf=s64",
      "userId": "09924783447560152895"
     },
     "user_tz": -540
    },
    "id": "EJ5AM5LgJ9ne",
    "outputId": "e21a1685-e738-4be3-ccb9-31ede8a7010c"
   },
   "outputs": [],
   "source": [
    "train_n = len(train_dataset)\n",
    "valid_n = len(valid_dataset)\n",
    "\n",
    "for e in range(100):\n",
    "    # init metrics for this epoch  # (1)\n",
    "    train_loss = 0\n",
    "    train_acc = 0\n",
    "    train_f1_score = 0\n",
    "    valid_loss = 0\n",
    "    valid_acc = 0\n",
    "    valid_f1_score = 0\n",
    "    \n",
    "        # train part\n",
    "    model.train()  # (2)\n",
    "    for audio_feature, label in train_loader:\n",
    "        audio_feature = audio_feature.to(device)  # (3)\n",
    "        label = label.to(device)\n",
    "        optimizer.zero_grad()  # (4)\n",
    "        \n",
    "        pred = model(audio_feature)  # (5)\n",
    "        \n",
    "        loss = criterion(pred, label)  # (6)\n",
    "        loss.backward()  # (7)\n",
    "        optimizer.step()  # (8)\n",
    "\n",
    "        pred = torch.round(torch.sigmoid(pred))  # (9)\n",
    "        pred = pred.cpu().detach().numpy()  # (10)\n",
    "        label = label.cpu().detach().numpy()\n",
    "\n",
    "        acc = accuracy_score(label, pred)  # (11)\n",
    "        f1 = f1_score(label, pred)\n",
    "\n",
    "        n = len(label)  # (12)\n",
    "        train_loss += loss.item() * n\n",
    "        train_acc += acc * n  # 수정된 부분\n",
    "        train_f1_score += f1 * n\n",
    "\n",
    "    # validation part\n",
    "    model.eval()\n",
    "    with torch.no_grad():\n",
    "        for audio_feature, label in valid_loader:\n",
    "            audio_feature = audio_feature.to(device)\n",
    "            label = label.to(device)\n",
    "            \n",
    "            pred = model(audio_feature)\n",
    "\n",
    "            loss = criterion(pred, label)\n",
    "\n",
    "            pred = torch.round(torch.sigmoid(pred))\n",
    "            pred = pred.cpu().numpy()  # (13)\n",
    "            label = label.cpu().numpy()\n",
    "            \n",
    "            acc = accuracy_score(label, pred)\n",
    "            f1 = f1_score(label, pred)\n",
    "\n",
    "            n = len(label)\n",
    "            valid_acc += acc * n  # 동일하게 수정\n",
    "            valid_loss += loss.item() * n\n",
    "            valid_f1_score += f1 * n\n",
    "\n",
    "\n",
    "    # calculate metrics for this epoch  # (14)\n",
    "    train_loss = f'{train_loss / train_n : .4f}'\n",
    "    train_acc = f'{train_acc / train_n : .3f}'\n",
    "    train_f1_score = f'{train_f1_score / train_n : .3f}'    \n",
    "    valid_loss = f'{valid_loss / valid_n : .4f}'\n",
    "    valid_acc = f'{valid_acc / valid_n : .3f}'\n",
    "    valid_f1_score = f'{valid_f1_score / valid_n : .3f}'\n",
    "\n",
    "    # log metrics\n",
    "    print(f'Epoch {e+0 : 03}')\n",
    "    print('      |   loss  |   acc  |   f1   |')\n",
    "    print(f'TRAIN | {train_loss} | {train_acc} | {train_f1_score} |')\n",
    "    print(f'VALID | {valid_loss} | {valid_acc} | {valid_f1_score} |')\n",
    "    print('----------------------------------')\n",
    "    print()"
   ]
  },
  {
   "cell_type": "markdown",
   "metadata": {
    "id": "YiBaJPLyJ9ne"
   },
   "source": [
    "## 모델 저장"
   ]
  },
  {
   "cell_type": "code",
   "execution_count": null,
   "metadata": {
    "id": "6lkMB_VQJ9nf"
   },
   "outputs": [],
   "source": [
    "torch.save(model.cpu().state_dict(), 'test.pth')"
   ]
  },
  {
   "cell_type": "markdown",
   "metadata": {
    "id": "jtlRiJuPJ9nf"
   },
   "source": [
    "## 모델 로드"
   ]
  },
  {
   "cell_type": "code",
   "execution_count": null,
   "metadata": {
    "id": "GD28iBrvJ9nf"
   },
   "outputs": [],
   "source": [
    "from torch import nn\n",
    "import torch"
   ]
  },
  {
   "cell_type": "code",
   "execution_count": null,
   "metadata": {
    "id": "dO5WZCI6J9nf"
   },
   "outputs": [],
   "source": [
    "model = nn.Sequential(\n",
    "    nn.Conv2d(\n",
    "        in_channels=1,\n",
    "        out_channels=32,\n",
    "        kernel_size=(64, 1),\n",
    "    ),\n",
    "    nn.BatchNorm2d(32),\n",
    "    nn.ReLU(),\n",
    "    nn.Dropout2d(p=0.3),\n",
    "    nn.Conv2d(\n",
    "        in_channels=32,\n",
    "        out_channels=64,\n",
    "        kernel_size=(1, 9),\n",
    "        stride=4\n",
    "    ),\n",
    "    nn.BatchNorm2d(64),\n",
    "    nn.ReLU(),\n",
    "    nn.Dropout2d(p=0.3),\n",
    "    nn.Flatten(),\n",
    "    nn.Linear(64 * 1 * 9, 1),\n",
    ")"
   ]
  },
  {
   "cell_type": "code",
   "execution_count": null,
   "metadata": {
    "id": "u4kVUaZrJ9nf",
    "outputId": "2d3306d4-0b37-41ce-d713-5907354859e2"
   },
   "outputs": [],
   "source": [
    "model.load_state_dict(torch.load('test.pth', map_location='cpu'))"
   ]
  },
  {
   "cell_type": "markdown",
   "metadata": {
    "id": "DnpGzRWFJ9nf"
   },
   "source": [
    "## 데모 실행"
   ]
  },
  {
   "cell_type": "code",
   "execution_count": null,
   "metadata": {
    "id": "TN1WRN9-J9ng",
    "outputId": "872e6538-a6f7-4d88-895a-a120e21214c3"
   },
   "outputs": [],
   "source": [
    "import sys\n",
    "import torch\n",
    "import torch.nn as nn\n",
    "from PyQt5 import QtCore\n",
    "from PyQt5.QtWidgets import QApplication\n",
    "from demo import MyWindow, MicrophoneRecorder\n",
    "\n",
    "sampling_rate = 22050  # Hz\n",
    "chunk_size = 22050  # samples\n",
    "\n",
    "model_dir = 'test.pth'\n",
    "model = nn.Sequential(\n",
    "    nn.Conv2d(\n",
    "        in_channels=1,\n",
    "        out_channels=32,\n",
    "        kernel_size=(64, 1),\n",
    "    ),\n",
    "    nn.BatchNorm2d(32),\n",
    "    nn.ReLU(),\n",
    "    nn.Dropout2d(p=0.3),\n",
    "    nn.Conv2d(\n",
    "        in_channels=32,\n",
    "        out_channels=64,\n",
    "        kernel_size=(1, 9),\n",
    "        stride=4\n",
    "    ),\n",
    "    nn.BatchNorm2d(64),\n",
    "    nn.ReLU(),\n",
    "    nn.Dropout2d(p=0.3),\n",
    "    nn.Flatten(),\n",
    "    nn.Linear(64 * 1 * 9, 1),\n",
    ")\n",
    "model.load_state_dict(torch.load(model_dir, map_location='cpu'))\n",
    "\n",
    "prediction_i = 0\n",
    "predictions_collection = []\n",
    "\n",
    "app = QApplication(sys.argv)\n",
    "myWindow = MyWindow(model=model)\n",
    "mic = MicrophoneRecorder(myWindow.read_collected)\n",
    "\n",
    "# 시간 간격(초) 계산\n",
    "interval = int(1000 * chunk_size / sampling_rate)  # ms 단위로 변경\n",
    "t = QtCore.QTimer()\n",
    "t.timeout.connect(mic.read)\n",
    "t.start(interval)  # 계산된 interval 사용\n",
    "\n",
    "myWindow.show()\n",
    "app.exec_()\n"
   ]
  }
 ],
 "metadata": {
  "accelerator": "GPU",
  "colab": {
   "collapsed_sections": [
    "jtlRiJuPJ9nf",
    "DnpGzRWFJ9nf"
   ],
   "name": "example.ipynb",
   "provenance": [],
   "toc_visible": true
  },
  "kernelspec": {
   "display_name": "Python 3",
   "language": "python",
   "name": "python3"
  },
  "language_info": {
   "codemirror_mode": {
    "name": "ipython",
    "version": 3
   },
   "file_extension": ".py",
   "mimetype": "text/x-python",
   "name": "python",
   "nbconvert_exporter": "python",
   "pygments_lexer": "ipython3",
   "version": "3.12.2"
  }
 },
 "nbformat": 4,
 "nbformat_minor": 4
}
